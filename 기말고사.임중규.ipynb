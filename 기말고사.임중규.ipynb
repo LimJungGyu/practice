{
 "cells": [
  {
   "cell_type": "markdown",
   "metadata": {},
   "source": [
    "# 비즈니스코딩 기말고사 대체과제  \n",
    "  \n",
    "### 과제 파일명은 기말고사.제출자이름.ipynb로 하세요. <span style=\"color:red\">규칙대로 작성되지 않으면 5점 감점</span>합니다.  "
   ]
  },
  {
   "cell_type": "markdown",
   "metadata": {},
   "source": [
    " ## 하나둘상사의 고객 주문내역 및 택배정보를 이메일로  프로그램을 작성하세요(90점)\n",
    "  \n",
    "1) 고객주문.xlsx에서 고객주문 정보를 가져온 후 고객주문 내역과 택배관련 정보를 적절한 이메일 메시지로 발송해야합니다.  \n",
    "2) 고객주문이 다수일 경우 이메일을 한번의 실행으로 모두 발송합니다.  \n",
    "3) 이메일 발송 주소는 고객의 이메일 주소로 보내야하며 인사말에 고객의 이름을 언급하여 본인에게 온 메일임을 확인할 수 있어야 합니다.  \n",
    "4) 이메일 본문에서 주문번호, 주문일시, 제품명, 수량, 제품가격과 총주문금액을 적절한 문구로 알려주어야합니다.  \n",
    "5) 이메일 본문에서 택배사, 송장번호, 배송주소를 적절한 문구로 알려주어야합니다.  \n",
    "6) 아래의 하나의 셀에 모든 코드를 작성하세요. 필요한 기능을 적절히 함수로 만들어 활용하세요."
   ]
  },
  {
   "cell_type": "code",
   "execution_count": 25,
   "metadata": {},
   "outputs": [
    {
     "data": {
      "text/plain": [
       "(221, b'2.0.0 closing connection a6sm10977100pgg.25 - gsmtp')"
      ]
     },
     "execution_count": 25,
     "metadata": {},
     "output_type": "execute_result"
    }
   ],
   "source": [
    "\n",
    "import os\n",
    "import smtplib   \n",
    "from email import encoders  \n",
    "from email.mime.text import MIMEText   \n",
    "from email.mime.base import MIMEBase     \n",
    "from email.mime.multipart import MIMEMultipart   \n",
    "from email.header import Header   \n",
    "from email.encoders import encode_base64 \n",
    "\n",
    "import pandas as pd\n",
    "import matplotlib as mpl\n",
    "import matplotlib.font_manager as fm\n",
    "\n",
    "df = pd.read_excel(\"고객주문내역.xlsx\", sheet_name=\"Sheet1\")\n",
    "\n",
    "    \n",
    "for i in range(len(df)):\n",
    "    fromAddr = \"20912567ljg@gmail.com\"  \n",
    "    gmail_app_pw = \"bvsdtlyeshwkhoks\"   \n",
    "    toAddr = df.iloc[i][\"이메일\"]       \n",
    "\n",
    "    gmail = smtplib.SMTP('smtp.gmail.com', 587)\n",
    "    gmail.starttls()\n",
    "    gmail.login(fromAddr, gmail_app_pw)\n",
    "\n",
    "    msg = MIMEMultipart(\"alternative\")\n",
    "    msg.preamble = '' \n",
    "\n",
    "    msg['Subject'] = Header('하나둘상사의 고객 주문내역 및 택배정보','utf8') \n",
    "    msg['From'] = fromAddr \n",
    "    msg['To'] = toAddr  \n",
    "    txt = f'''\n",
    "    {df.iloc[i][\"고객명\"]}님 안녕하세요.\n",
    "    고객님의 주문내역을 알려드립니다\n",
    "    {df.iloc[i][\"주문일시\"]}에 주문하신 주문번호{df.iloc[i][\"주문번호\"]} {df.iloc[i][\"제품명\"]}이  \n",
    "    {df.iloc[i][\"제품가격\"]}원에 {df.iloc[i][\"주문수량\"]}개가 주문되어\n",
    "    총주문금액은 {(df.iloc[i][\"제품가격\"])*(df.iloc[i][\"주문수량\"])} 입니다\n",
    "    송장번호 {df.iloc[i][\"송장번호\"]} {df.iloc[i][\"택배사\"]}를 통해 {df.iloc[i][\"배송주소\"]}로 배송될 예정입니다\n",
    "    '''\n",
    "    msg.attach(MIMEText(txt, _charset=\"utf8\"))\n",
    "    gmail.sendmail(fromAddr, toAddr, msg.as_string())\n",
    "gmail.quit()\n",
    "   "
   ]
  },
  {
   "cell_type": "markdown",
   "metadata": {},
   "source": [
    "## 세금계산서 첨부하여 보내기(추가점수 20점)\n",
    "  \n",
    "1) 첨부한 고객간이영수증,xlsx 파일을 활용하세요.  \n",
    "2) 첨부파일이름은 \"고객영수증(고객명.주문번호).xlsx\"  형태로 만드세요.  \n",
    "3) 공급자 정보는 샘플을 그대로 사용하고 발급대상저 이름, 작성년월일, 공급대가총액, 월일, 품목, 수량, 단가, 금액, 합계금액을 고객주문정보에 따라 수정하세요.  \n",
    "4) 아래의 하나의 셀에 세금계산서 작성과 첨부기능을 함수 형태로 구현하세요. 꼭 하나의 함수로 작성할 필요는 없고 필요시 다수의 함수를 작성 후 조합하여 기능을 구현하세요.  "
   ]
  },
  {
   "cell_type": "code",
   "execution_count": 32,
   "metadata": {},
   "outputs": [
    {
     "data": {
      "text/plain": [
       "(221, b'2.0.0 closing connection a22sm14075294pfk.108 - gsmtp')"
      ]
     },
     "execution_count": 32,
     "metadata": {},
     "output_type": "execute_result"
    }
   ],
   "source": [
    "import os\n",
    "import pickle\n",
    "import smtplib   # 이메일 전송 데몬인 sendmail 관련 모듈\n",
    "from email import encoders  # 파일전송을 할 때 이미지나 문서 동영상 등의 파일을 문자열로 변환할 때 사용할 모듈\n",
    "from email.mime.text import MIMEText   # 본문내용을 텍스트로 전송\n",
    "from email.mime.base import MIMEBase     # 메일 전송시 기본이 되는 부분\n",
    "from email.mime.multipart import MIMEMultipart   # 이메일에 첨부 파일이 있을 때 사용\n",
    "from email.header import Header   # 이메일 제목 지정\n",
    "from email.encoders import encode_base64 #base64는 바이너리 데이터를 텍스트로 바꾸는 인코딩 \n",
    "\n",
    "import pandas as pd\n",
    "import matplotlib as mpl\n",
    "import matplotlib.font_manager as fm\n",
    "\n",
    "df = pd.read_excel(\"고객주문내역.xlsx\", sheet_name=\"Sheet1\")\n",
    "\n",
    "df2 = pd.read_excel(\"고객용간이영수증.xlsx\", sheet_name=\"Sheet1\")\n",
    "\n",
    "\n",
    "\n",
    "for i in range(len(df)):\n",
    "    df2.iloc[0][0]   =   df.iloc[i][\"고객명\"]    \n",
    "    df2.iloc[8][0]   = df.iloc[i][\"주문일시\"] \n",
    "    df2.iloc[11][0]  =  df.iloc[i][\"주문일시\"] \n",
    "    df2.iloc[11][2]  = df.iloc[i][\"제품명\"]   \n",
    "    df2.iloc[11][7]  =  df.iloc[i][\"제품가격\"] \n",
    "    df2.iloc[11][5]  =  df.iloc[i][\"주문수량\"] \n",
    "    df2.iloc[11][9] = df.iloc[i][\"제품가격\"]*df.iloc[i][\"주문수량\"]\n",
    "    df2.iloc[8][4]   = df.iloc[i][\"제품가격\"]*df.iloc[i][\"주문수량\"]\n",
    "    df2.iloc[21][9]   = df.iloc[i][\"제품가격\"]*df.iloc[i][\"주문수량\"]\n",
    "    \n",
    "    name = df.iloc[i][\"고객명\"]\n",
    "    number = df.iloc[i][\"주문번호\"]\n",
    "    df2.to_excel(f\"고객영수증({name}{number}).xlsx\") \n",
    "\n",
    "\n",
    "for attached_file in file_list:\n",
    "    part = MIMEBase(\"application\", \"octet-stream\" , _charset=\"utf8\")\n",
    "    part.set_payload(open(attached_file, \"rb\").read())\n",
    "    encode_base64(part)\n",
    "    part.add_header(\"Content-Disposition\",\"attachment\",filename = (\"utf8\", \"\",os.path.basename(attached_file)))\n",
    "    msg.attach(part)\n",
    "\n",
    "for i in range(len(df)):\n",
    "    fromAddr = \"20912567ljg@gmail.com\"  \n",
    "    gmail_app_pw = \"bvsdtlyeshwkhoks\"   \n",
    "    toAddr = df.iloc[i][\"이메일\"]       \n",
    "\n",
    "    gmail = smtplib.SMTP('smtp.gmail.com', 587)\n",
    "    gmail.starttls()\n",
    "    gmail.login(fromAddr, gmail_app_pw)\n",
    "\n",
    "    msg = MIMEMultipart(\"mixed\")\n",
    "    msg.preamble = '' \n",
    "\n",
    "    msg['Subject'] = Header('하나둘상사의 고객용영수증','utf8') \n",
    "    msg['From'] = fromAddr \n",
    "    msg['To'] = toAddr  \n",
    "    txt = f'''\n",
    "    {df.iloc[i][\"고객명\"]}님 안녕하세요.\n",
    "    고객님의 고객용영수증을 발급해드립니다\n",
    "    {df.iloc[i][\"주문일시\"]}에 주문하신 주문번호{df.iloc[i][\"주문번호\"]} {df.iloc[i][\"제품명\"]}이  \n",
    "    {df.iloc[i][\"제품가격\"]}원에 {df.iloc[i][\"주문수량\"]}개가 주문되어\n",
    "    총주문금액은 {(df.iloc[i][\"제품가격\"])*(df.iloc[i][\"주문수량\"])} 입니다\n",
    "    송장번호 {df.iloc[i][\"송장번호\"]} {df.iloc[i][\"택배사\"]}를 통해 {df.iloc[i][\"배송주소\"]}로 배송될 예정입니다\n",
    "    '''\n",
    "    msg.attach(MIMEText(txt, _charset=\"utf8\"))\n",
    "    \n",
    "    \n",
    "    name = df.iloc[i][\"고객명\"]\n",
    "    number = df.iloc[i][\"주문번호\"]\n",
    "    file_list = [f\"고객영수증({name}{number}).xlsx\"]\n",
    "    for attached_file in file_list:\n",
    "        part = MIMEBase(\"application\", \"octet-stream\" , _charset=\"utf8\")\n",
    "        part.set_payload(open(attached_file, \"rb\").read())\n",
    "        encode_base64(part)\n",
    "        part.add_header(\"Content-Disposition\",\"attachment\",filename = (\"utf8\", \"\",os.path.basename(attached_file)))\n",
    "        msg.attach(part)\n",
    "\n",
    "\n",
    "    gmail.sendmail(fromAddr, toAddr, msg.as_string())\n",
    "gmail.quit()\n",
    "\n",
    "  \n",
    "\n",
    "\n",
    "\n"
   ]
  },
  {
   "cell_type": "markdown",
   "metadata": {},
   "source": [
    "## 엑셀 파일로된 세금계산서를 pdf로 변환하여 첨부하는 함수 작성시 추가점수 10점 부여"
   ]
  },
  {
   "cell_type": "code",
   "execution_count": null,
   "metadata": {},
   "outputs": [],
   "source": [
    "# 세금계산서 pdf로 변환하기\n",
    "\n",
    "\n",
    "\n",
    "\n",
    "\n"
   ]
  }
 ],
 "metadata": {
  "kernelspec": {
   "display_name": "Python 3",
   "language": "python",
   "name": "python3"
  },
  "language_info": {
   "codemirror_mode": {
    "name": "ipython",
    "version": 3
   },
   "file_extension": ".py",
   "mimetype": "text/x-python",
   "name": "python",
   "nbconvert_exporter": "python",
   "pygments_lexer": "ipython3",
   "version": "3.7.4"
  }
 },
 "nbformat": 4,
 "nbformat_minor": 2
}
